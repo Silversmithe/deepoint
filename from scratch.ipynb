{
 "cells": [
  {
   "cell_type": "markdown",
   "metadata": {},
   "source": [
    "# Paper Re-implementation\n",
    "Trying to match the authors as much as possible"
   ]
  },
  {
   "cell_type": "markdown",
   "metadata": {},
   "source": [
    "## Data"
   ]
  },
  {
   "cell_type": "code",
   "execution_count": 1,
   "metadata": {},
   "outputs": [
    {
     "name": "stdout",
     "output_type": "stream",
     "text": [
      "pygame 2.0.0.dev6 (SDL 2.0.10, python 3.7.3)\n",
      "Hello from the pygame community. https://www.pygame.org/contribute.html\n"
     ]
    }
   ],
   "source": [
    "from src.image_generator import generate_images\n",
    "import matplotlib.pyplot as plt"
   ]
  },
  {
   "cell_type": "code",
   "execution_count": 2,
   "metadata": {},
   "outputs": [],
   "source": [
    "data_generator = generate_images(object_types=[\n",
    "        'ellipse',\n",
    "        'checkerboard',\n",
    "        'cube',\n",
    "        'quad',\n",
    "        #'star', # buggy\n",
    "        'line',\n",
    "        'triangle',\n",
    "        'none'], \n",
    "    batch_size=32, \n",
    "    object_count=2, \n",
    "    display_mode=1,\n",
    "    shape = (160,120),\n",
    "    single_channel=True)"
   ]
  },
  {
   "cell_type": "code",
   "execution_count": 3,
   "metadata": {},
   "outputs": [],
   "source": [
    "x,y = next(data_generator)"
   ]
  },
  {
   "cell_type": "code",
   "execution_count": 4,
   "metadata": {},
   "outputs": [
    {
     "data": {
      "text/plain": [
       "(160, 120, 1)"
      ]
     },
     "execution_count": 4,
     "metadata": {},
     "output_type": "execute_result"
    }
   ],
   "source": [
    "x[0].shape"
   ]
  },
  {
   "cell_type": "markdown",
   "metadata": {},
   "source": [
    "## Model"
   ]
  },
  {
   "cell_type": "code",
   "execution_count": 44,
   "metadata": {},
   "outputs": [],
   "source": [
    "import keras\n",
    "from keras.layers import Activation, Conv2D, Lambda, BatchNormalization, ZeroPadding2D, MaxPooling2D\n",
    "from keras.activations import softmax\n",
    "import tensorflow as tf"
   ]
  },
  {
   "cell_type": "code",
   "execution_count": 50,
   "metadata": {},
   "outputs": [],
   "source": [
    "model = keras.models.Sequential()\n",
    "\n",
    "model.add(ZeroPadding2D((1,1),input_shape=(120,160,1)))\n",
    "model.add(Conv2D(16,3, activation='relu'))\n",
    "model.add(ZeroPadding2D((1,1)))\n",
    "model.add(Conv2D(64,3, activation='relu'))\n",
    "model.add(MaxPooling2D((2,2), strides=2))\n",
    "model.add(BatchNormalization())\n",
    "\n",
    "model.add(ZeroPadding2D((1,1)))\n",
    "model.add(Conv2D(32,3, activation='relu'))\n",
    "model.add(ZeroPadding2D((1,1)))\n",
    "model.add(Conv2D(32,3, activation='relu'))\n",
    "model.add(MaxPooling2D((2,2), strides=2))\n",
    "model.add(BatchNormalization())\n",
    "\n",
    "model.add(ZeroPadding2D((1,1)))\n",
    "model.add(Conv2D(64,3, activation='relu'))\n",
    "model.add(ZeroPadding2D((1,1)))\n",
    "model.add(Conv2D(64,3, activation='relu'))\n",
    "model.add(MaxPooling2D((2,2), strides=2))\n",
    "model.add(BatchNormalization())\n",
    "\n",
    "model.add(Conv2D(65,1, activation='softmax'))\n",
    "model.add(Lambda(lambda x: x[:,:,:,:-1]))\n",
    "model.add(Lambda(lambda x: tf.nn.depth_to_space(x, block_size=8)))"
   ]
  },
  {
   "cell_type": "code",
   "execution_count": 51,
   "metadata": {},
   "outputs": [
    {
     "name": "stdout",
     "output_type": "stream",
     "text": [
      "Model: \"sequential_20\"\n",
      "_________________________________________________________________\n",
      "Layer (type)                 Output Shape              Param #   \n",
      "=================================================================\n",
      "zero_padding2d_70 (ZeroPaddi (None, 122, 162, 1)       0         \n",
      "_________________________________________________________________\n",
      "conv2d_72 (Conv2D)           (None, 120, 160, 16)      160       \n",
      "_________________________________________________________________\n",
      "zero_padding2d_71 (ZeroPaddi (None, 122, 162, 16)      0         \n",
      "_________________________________________________________________\n",
      "conv2d_73 (Conv2D)           (None, 120, 160, 64)      9280      \n",
      "_________________________________________________________________\n",
      "max_pooling2d_32 (MaxPooling (None, 60, 80, 64)        0         \n",
      "_________________________________________________________________\n",
      "batch_normalization_16 (Batc (None, 60, 80, 64)        256       \n",
      "_________________________________________________________________\n",
      "zero_padding2d_72 (ZeroPaddi (None, 62, 82, 64)        0         \n",
      "_________________________________________________________________\n",
      "conv2d_74 (Conv2D)           (None, 60, 80, 32)        18464     \n",
      "_________________________________________________________________\n",
      "zero_padding2d_73 (ZeroPaddi (None, 62, 82, 32)        0         \n",
      "_________________________________________________________________\n",
      "conv2d_75 (Conv2D)           (None, 60, 80, 32)        9248      \n",
      "_________________________________________________________________\n",
      "max_pooling2d_33 (MaxPooling (None, 30, 40, 32)        0         \n",
      "_________________________________________________________________\n",
      "batch_normalization_17 (Batc (None, 30, 40, 32)        128       \n",
      "_________________________________________________________________\n",
      "zero_padding2d_74 (ZeroPaddi (None, 32, 42, 32)        0         \n",
      "_________________________________________________________________\n",
      "conv2d_76 (Conv2D)           (None, 30, 40, 64)        18496     \n",
      "_________________________________________________________________\n",
      "zero_padding2d_75 (ZeroPaddi (None, 32, 42, 64)        0         \n",
      "_________________________________________________________________\n",
      "conv2d_77 (Conv2D)           (None, 30, 40, 64)        36928     \n",
      "_________________________________________________________________\n",
      "max_pooling2d_34 (MaxPooling (None, 15, 20, 64)        0         \n",
      "_________________________________________________________________\n",
      "batch_normalization_18 (Batc (None, 15, 20, 64)        256       \n",
      "_________________________________________________________________\n",
      "conv2d_78 (Conv2D)           (None, 15, 20, 65)        4225      \n",
      "_________________________________________________________________\n",
      "lambda_6 (Lambda)            (None, 15, 20, 64)        0         \n",
      "_________________________________________________________________\n",
      "lambda_7 (Lambda)            (None, 120, 160, 1)       0         \n",
      "=================================================================\n",
      "Total params: 97,441\n",
      "Trainable params: 97,121\n",
      "Non-trainable params: 320\n",
      "_________________________________________________________________\n"
     ]
    }
   ],
   "source": [
    "model.summary()"
   ]
  },
  {
   "cell_type": "code",
   "execution_count": null,
   "metadata": {},
   "outputs": [],
   "source": []
  }
 ],
 "metadata": {
  "kernelspec": {
   "display_name": "Python 3",
   "language": "python",
   "name": "python3"
  },
  "language_info": {
   "codemirror_mode": {
    "name": "ipython",
    "version": 3
   },
   "file_extension": ".py",
   "mimetype": "text/x-python",
   "name": "python",
   "nbconvert_exporter": "python",
   "pygments_lexer": "ipython3",
   "version": "3.7.3"
  },
  "toc": {
   "base_numbering": 1,
   "nav_menu": {},
   "number_sections": true,
   "sideBar": true,
   "skip_h1_title": true,
   "title_cell": "Table of Contents",
   "title_sidebar": "Contents",
   "toc_cell": false,
   "toc_position": {},
   "toc_section_display": true,
   "toc_window_display": false
  }
 },
 "nbformat": 4,
 "nbformat_minor": 2
}
