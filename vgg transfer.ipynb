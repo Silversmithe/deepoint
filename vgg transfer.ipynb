{
 "cells": [
  {
   "cell_type": "markdown",
   "metadata": {},
   "source": [
    "# VGG Transfer learning\n",
    "Using VGG16 pre-trained on imagenet"
   ]
  },
  {
   "cell_type": "markdown",
   "metadata": {},
   "source": [
    "## Data"
   ]
  },
  {
   "cell_type": "code",
   "execution_count": 1,
   "metadata": {},
   "outputs": [
    {
     "name": "stdout",
     "output_type": "stream",
     "text": [
      "pygame 2.0.0.dev6 (SDL 2.0.10, python 3.7.3)\n",
      "Hello from the pygame community. https://www.pygame.org/contribute.html\n"
     ]
    }
   ],
   "source": [
    "from src.image_generator import generate_images"
   ]
  },
  {
   "cell_type": "code",
   "execution_count": 2,
   "metadata": {},
   "outputs": [],
   "source": [
    "data_generator = generate_images(object_types=[\n",
    "        'ellipse',\n",
    "        'checkerboard',\n",
    "        'cube',\n",
    "        'quad',\n",
    "        #'star', # buggy\n",
    "        'line',\n",
    "        'triangle',\n",
    "        'none'], \n",
    "    batch_size=32, \n",
    "    object_count=2, \n",
    "    display_mode=1,\n",
    "    shape = (224,224))"
   ]
  },
  {
   "cell_type": "code",
   "execution_count": 3,
   "metadata": {},
   "outputs": [
    {
     "name": "stdout",
     "output_type": "stream",
     "text": [
      "[INFO] rendering image 0/32\n",
      "[INFO] rendering image 9/32\n",
      "[INFO] rendering image 18/32\n",
      "[INFO] rendering image 27/32\n",
      "[INFO] rendering image 32/32\n"
     ]
    }
   ],
   "source": [
    "x,y = next(data_generator)"
   ]
  },
  {
   "cell_type": "code",
   "execution_count": 9,
   "metadata": {},
   "outputs": [],
   "source": [
    "from keras.utils import to_categorical"
   ]
  },
  {
   "cell_type": "code",
   "execution_count": 11,
   "metadata": {},
   "outputs": [
    {
     "data": {
      "text/plain": [
       "(32, 224, 224, 2)"
      ]
     },
     "execution_count": 11,
     "metadata": {},
     "output_type": "execute_result"
    }
   ],
   "source": [
    "to_categorical(y).shape"
   ]
  },
  {
   "cell_type": "markdown",
   "metadata": {},
   "source": [
    "## Model"
   ]
  },
  {
   "cell_type": "code",
   "execution_count": 4,
   "metadata": {},
   "outputs": [
    {
     "name": "stderr",
     "output_type": "stream",
     "text": [
      "Using TensorFlow backend.\n"
     ]
    }
   ],
   "source": [
    "import keras\n",
    "from keras.applications.vgg16 import VGG16\n",
    "from keras.layers import Activation, Conv2D, Lambda, BatchNormalization\n",
    "from keras.activations import softmax\n",
    "import tensorflow as tf"
   ]
  },
  {
   "cell_type": "markdown",
   "metadata": {},
   "source": [
    "### Setup"
   ]
  },
  {
   "cell_type": "code",
   "execution_count": 5,
   "metadata": {},
   "outputs": [],
   "source": [
    "model = keras.models.Sequential()\n",
    "model.add(VGG16(include_top=False,input_shape=(224,224,3),weights='imagenet'))\n",
    "model.add(Conv2D(1024,1))\n",
    "model.add(Activation(softmax))\n",
    "model.add(BatchNormalization())\n",
    "model.add(keras.layers.Lambda(lambda x: tf.nn.depth_to_space(x, block_size=32)))"
   ]
  },
  {
   "cell_type": "code",
   "execution_count": 6,
   "metadata": {
    "scrolled": true
   },
   "outputs": [
    {
     "name": "stdout",
     "output_type": "stream",
     "text": [
      "Model: \"sequential_1\"\n",
      "_________________________________________________________________\n",
      "Layer (type)                 Output Shape              Param #   \n",
      "=================================================================\n",
      "vgg16 (Model)                (None, 7, 7, 512)         14714688  \n",
      "_________________________________________________________________\n",
      "conv2d_1 (Conv2D)            (None, 7, 7, 1024)        525312    \n",
      "_________________________________________________________________\n",
      "activation_1 (Activation)    (None, 7, 7, 1024)        0         \n",
      "_________________________________________________________________\n",
      "batch_normalization_1 (Batch (None, 7, 7, 1024)        4096      \n",
      "_________________________________________________________________\n",
      "lambda_1 (Lambda)            (None, 224, 224, 1)       0         \n",
      "=================================================================\n",
      "Total params: 15,244,096\n",
      "Trainable params: 15,242,048\n",
      "Non-trainable params: 2,048\n",
      "_________________________________________________________________\n"
     ]
    }
   ],
   "source": [
    "model.summary()"
   ]
  },
  {
   "cell_type": "code",
   "execution_count": 12,
   "metadata": {},
   "outputs": [],
   "source": [
    "model.compile(loss='binary_crossentropy',\n",
    "              optimizer='adam',\n",
    "              metrics=['accuracy'])"
   ]
  },
  {
   "cell_type": "markdown",
   "metadata": {},
   "source": [
    "### Fit"
   ]
  },
  {
   "cell_type": "code",
   "execution_count": 13,
   "metadata": {
    "scrolled": true
   },
   "outputs": [
    {
     "name": "stdout",
     "output_type": "stream",
     "text": [
      "Epoch 1/2\n",
      "[INFO] rendering image 0/32\n",
      "[INFO] rendering image 9/32\n",
      "[INFO] rendering image 18/32\n",
      "[INFO] rendering image 27/32\n",
      "[INFO] rendering image 32/32\n",
      "[INFO] rendering image 0/32\n",
      "[INFO] rendering image 9/32\n",
      "[INFO] rendering image 18/32\n",
      "[INFO] rendering image 27/32\n",
      "[INFO] rendering image 32/32\n",
      "1/4 [======>.......................] - ETA: 54s - loss: 0.0382 - accuracy: 0.9966[INFO] rendering image 0/32\n",
      "[INFO] rendering image 9/32\n",
      "[INFO] rendering image 18/32\n",
      "[INFO] rendering image 27/32\n",
      "[INFO] rendering image 32/32\n",
      "2/4 [==============>...............] - ETA: 30s - loss: 0.0404 - accuracy: 0.9960[INFO] rendering image 0/32\n",
      "[INFO] rendering image 9/32\n",
      "[INFO] rendering image 18/32\n",
      "[INFO] rendering image 27/32\n",
      "[INFO] rendering image 32/32\n",
      "3/4 [=====================>........] - ETA: 14s - loss: 0.0275 - accuracy: 0.9973[INFO] rendering image 0/32\n",
      "[INFO] rendering image 9/32\n",
      "[INFO] rendering image 18/32\n",
      "[INFO] rendering image 27/32\n",
      "[INFO] rendering image 32/32\n",
      "4/4 [==============================] - 57s 14s/step - loss: 0.0207 - accuracy: 0.9979\n",
      "Epoch 2/2\n",
      "[INFO] rendering image 0/32\n",
      "[INFO] rendering image 9/32\n",
      "[INFO] rendering image 18/32\n",
      "[INFO] rendering image 27/32\n",
      "[INFO] rendering image 32/32\n",
      "1/4 [======>.......................] - ETA: 44s - loss: 0.0068 - accuracy: 0.9996[INFO] rendering image 0/32\n",
      "[INFO] rendering image 9/32\n",
      "[INFO] rendering image 18/32\n",
      "[INFO] rendering image 27/32\n",
      "[INFO] rendering image 32/32\n",
      "2/4 [==============>...............] - ETA: 29s - loss: 0.0046 - accuracy: 0.9997[INFO] rendering image 0/32\n",
      "[INFO] rendering image 9/32\n",
      "[INFO] rendering image 18/32\n",
      "[INFO] rendering image 27/32\n",
      "[INFO] rendering image 32/32\n",
      "3/4 [=====================>........] - ETA: 14s - loss: 0.0033 - accuracy: 0.9998[INFO] rendering image 0/32\n",
      "[INFO] rendering image 9/32\n",
      "[INFO] rendering image 18/32\n",
      "[INFO] rendering image 27/32\n",
      "[INFO] rendering image 32/32\n",
      "4/4 [==============================] - 59s 15s/step - loss: 0.0038 - accuracy: 0.9998\n"
     ]
    },
    {
     "data": {
      "text/plain": [
       "<keras.callbacks.callbacks.History at 0x15e320ef0>"
      ]
     },
     "execution_count": 13,
     "metadata": {},
     "output_type": "execute_result"
    }
   ],
   "source": [
    "model.fit(data_generator, steps_per_epoch=4,epochs=2)"
   ]
  },
  {
   "cell_type": "markdown",
   "metadata": {},
   "source": [
    "### Evaluate"
   ]
  },
  {
   "cell_type": "code",
   "execution_count": 18,
   "metadata": {},
   "outputs": [],
   "source": [
    "import matplotlib.pyplot as plt"
   ]
  },
  {
   "cell_type": "code",
   "execution_count": 14,
   "metadata": {},
   "outputs": [
    {
     "name": "stdout",
     "output_type": "stream",
     "text": [
      "[INFO] rendering image 0/32\n",
      "[INFO] rendering image 9/32\n",
      "[INFO] rendering image 18/32\n",
      "[INFO] rendering image 27/32\n",
      "[INFO] rendering image 32/32\n"
     ]
    }
   ],
   "source": [
    "x,y = next(data_generator)"
   ]
  },
  {
   "cell_type": "code",
   "execution_count": 34,
   "metadata": {},
   "outputs": [],
   "source": [
    "y_hat = model.predict(x)\n",
    "y_hat = y_hat.astype(int)"
   ]
  },
  {
   "cell_type": "code",
   "execution_count": 36,
   "metadata": {},
   "outputs": [
    {
     "data": {
      "image/png": "[encoded data removed]",
      "text/plain": [
       "<Figure size 432x288 with 1 Axes>"
      ]
     },
     "metadata": {
      "needs_background": "light"
     },
     "output_type": "display_data"
    }
   ],
   "source": [
    "plt.imshow(y[0,:,:,0],cmap='gray');"
   ]
  },
  {
   "cell_type": "code",
   "execution_count": 37,
   "metadata": {},
   "outputs": [
    {
     "data": {
      "image/png": "[encoded data removed]",
      "text/plain": [
       "<Figure size 432x288 with 1 Axes>"
      ]
     },
     "metadata": {
      "needs_background": "light"
     },
     "output_type": "display_data"
    }
   ],
   "source": [
    "plt.imshow(y_hat[0,:,:,0],cmap='gray');"
   ]
  },
  {
   "cell_type": "code",
   "execution_count": null,
   "metadata": {},
   "outputs": [],
   "source": []
  }
 ],
 "metadata": {
  "kernelspec": {
   "display_name": "Python 3",
   "language": "python",
   "name": "python3"
  },
  "language_info": {
   "codemirror_mode": {
    "name": "ipython",
    "version": 3
   },
   "file_extension": ".py",
   "mimetype": "text/x-python",
   "name": "python",
   "nbconvert_exporter": "python",
   "pygments_lexer": "ipython3",
   "version": "3.7.3"
  },
  "toc": {
   "base_numbering": 1,
   "nav_menu": {},
   "number_sections": true,
   "sideBar": true,
   "skip_h1_title": true,
   "title_cell": "Table of Contents",
   "title_sidebar": "Contents",
   "toc_cell": false,
   "toc_position": {},
   "toc_section_display": true,
   "toc_window_display": false
  }
 },
 "nbformat": 4,
 "nbformat_minor": 2
}
